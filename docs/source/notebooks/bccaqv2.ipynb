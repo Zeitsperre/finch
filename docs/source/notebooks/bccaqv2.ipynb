{
 "cells": [
  {
   "cell_type": "markdown",
   "metadata": {},
   "source": [
    "# Accessing the BCCAQv2 ensemble\n",
    "\n",
    "Finch provides a custom function to fetch a zip file storing all the simulations within the ensemble. This can be useful to run some analyses locally. \n",
    "\n",
    "The process allows subsetting over a bounding box defined by a bottom-left corner (lon0, lat0) and an upper right corner (lon1, lat1) as well as over a time period (y0, y1). Three variables are available (tasmin, tasmax, pr) and three representative concentration pathways are included (rcp26, rcp45 and rcp85). \n"
   ]
  },
  {
   "cell_type": "code",
   "execution_count": 7,
   "metadata": {},
   "outputs": [],
   "source": [
    "from birdy import WPSClient\n",
    "# url = 'https://pavics.ouranos.ca/twitcher/ows/proxy/finch/wps'\n",
    "url = 'https://finch.crim.ca/wps'\n",
    "wps = WPSClient(url, progress=True)"
   ]
  },
  {
   "cell_type": "code",
   "execution_count": 8,
   "metadata": {},
   "outputs": [],
   "source": [
    "wps.subset_ensemble_bccaqv2?"
   ]
  },
  {
   "cell_type": "code",
   "execution_count": 9,
   "metadata": {},
   "outputs": [
    {
     "data": {
      "application/vnd.jupyter.widget-view+json": {
       "model_id": "03108f87cdfb44a08f2493e9f44bdb2c",
       "version_major": 2,
       "version_minor": 0
      },
      "text/plain": [
       "HBox(children=(IntProgress(value=0, bar_style='info', description='Processing:'), Button(button_style='danger'…"
      ]
     },
     "metadata": {},
     "output_type": "display_data"
    }
   ],
   "source": [
    "resp = wps.subset_ensemble_bccaqv2('rcp85', 'tasmin', lon0=282, lon1=287, lat0=43, lat1=46, y0=1979, y1=1980)"
   ]
  },
  {
   "cell_type": "code",
   "execution_count": 13,
   "metadata": {
    "scrolled": true
   },
   "outputs": [
    {
     "data": {
      "text/plain": [
       "'https://finch.crim.ca/outputs/cf39ab92-71de-11e9-b8c5-0242ac140004/BCCAQv2_subset_rcp85_tasmin.zip'"
      ]
     },
     "execution_count": 13,
     "metadata": {},
     "output_type": "execute_result"
    }
   ],
   "source": [
    "out = resp.get()\n",
    "out.zip"
   ]
  }
 ],
 "metadata": {
  "kernelspec": {
   "display_name": "Python 3",
   "language": "python",
   "name": "python3"
  },
  "language_info": {
   "codemirror_mode": {
    "name": "ipython",
    "version": 3
   },
   "file_extension": ".py",
   "mimetype": "text/x-python",
   "name": "python",
   "nbconvert_exporter": "python",
   "pygments_lexer": "ipython3",
   "version": "3.6.3"
  }
 },
 "nbformat": 4,
 "nbformat_minor": 2
}
